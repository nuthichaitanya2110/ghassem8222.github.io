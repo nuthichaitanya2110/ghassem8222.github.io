{
  "nbformat": 4,
  "nbformat_minor": 0,
  "metadata": {
    "colab": {
      "name": "Copy of group8_data_exploration.ipynb",
      "provenance": [],
      "collapsed_sections": [],
      "include_colab_link": true
    },
    "kernelspec": {
      "name": "python3",
      "display_name": "Python 3"
    }
  },
  "cells": [
    {
      "cell_type": "markdown",
      "metadata": {
        "id": "view-in-github",
        "colab_type": "text"
      },
      "source": [
        "<a href=\"https://colab.research.google.com/github/nuthichaitanya2110/ghassem8222.github.io/blob/master/group8_data_exploration.ipynb\" target=\"_parent\"><img src=\"https://colab.research.google.com/assets/colab-badge.svg\" alt=\"Open In Colab\"/></a>"
      ]
    },
    {
      "cell_type": "code",
      "metadata": {
        "id": "x3BEn0zSV0DY",
        "colab_type": "code",
        "colab": {}
      },
      "source": [
        "# Hi team!"
      ],
      "execution_count": 0,
      "outputs": []
    },
    {
      "cell_type": "code",
      "metadata": {
        "id": "8dG8iMdZ_IRt",
        "colab_type": "code",
        "colab": {}
      },
      "source": [
        "#Hello Team 8"
      ],
      "execution_count": 0,
      "outputs": []
    }
  ]
}